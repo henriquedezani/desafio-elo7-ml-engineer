{
 "cells": [
  {
   "cell_type": "markdown",
   "metadata": {
    "id": "dHl9JxGDi3Sg"
   },
   "source": [
    "# Elo7 Machine Learning Engineer"
   ]
  },
  {
   "cell_type": "markdown",
   "metadata": {
    "id": "h6BBVL1EjAg5"
   },
   "source": [
    "## Etapa de treinamento do modelo\n",
    "\n",
    "Utilize este notebook para realizar o treinamento e disponibilização de um modelo de machine learning para ser consumido na API de busca de categorias."
   ]
  },
  {
   "cell_type": "code",
   "execution_count": 1,
   "metadata": {
    "id": "KnS2QtqdkFsu"
   },
   "outputs": [],
   "source": [
    "import os\n",
    "import pandas as pd\n",
    "import numpy as np\n",
    "import matplotlib.pyplot as plt\n",
    "import seaborn as sns\n",
    "import spacy\n",
    "import unidecode\n",
    "import pt_core_news_sm\n",
    "from sklearn.model_selection import train_test_split\n",
    "from sklearn.model_selection import cross_validate\n",
    "from sklearn.model_selection import KFold\n",
    "from sklearn.model_selection import StratifiedKFold\n",
    "from sklearn.pipeline import Pipeline\n",
    "from sklearn.base import BaseEstimator, TransformerMixin\n",
    "from sklearn.linear_model import LogisticRegression\n",
    "from sklearn.tree import DecisionTreeClassifier\n",
    "from sklearn.neural_network import MLPClassifier\n",
    "from sklearn.metrics import confusion_matrix, classification_report, plot_confusion_matrix\n",
    "import cloudpickle"
   ]
  },
  {
   "cell_type": "markdown",
   "metadata": {
    "id": "eeySdn6wjEdP"
   },
   "source": [
    "### 1. Extração de dados\n"
   ]
  },
  {
   "cell_type": "code",
   "execution_count": 2,
   "metadata": {
    "id": "S3wI01FEkEet"
   },
   "outputs": [],
   "source": [
    "dataframe = pd.read_csv(os.getenv('DATASET_PATH')) "
   ]
  },
  {
   "cell_type": "code",
   "execution_count": 3,
   "metadata": {
    "colab": {
     "base_uri": "https://localhost:8080/",
     "height": 428
    },
    "id": "AYMB9x_Ri_wh",
    "outputId": "5cbe16c1-32fd-4f27-a00c-cb808f6dd338"
   },
   "outputs": [
    {
     "data": {
      "text/html": [
       "<div>\n",
       "<style scoped>\n",
       "    .dataframe tbody tr th:only-of-type {\n",
       "        vertical-align: middle;\n",
       "    }\n",
       "\n",
       "    .dataframe tbody tr th {\n",
       "        vertical-align: top;\n",
       "    }\n",
       "\n",
       "    .dataframe thead th {\n",
       "        text-align: right;\n",
       "    }\n",
       "</style>\n",
       "<table border=\"1\" class=\"dataframe\">\n",
       "  <thead>\n",
       "    <tr style=\"text-align: right;\">\n",
       "      <th></th>\n",
       "      <th>product_id</th>\n",
       "      <th>seller_id</th>\n",
       "      <th>query</th>\n",
       "      <th>search_page</th>\n",
       "      <th>position</th>\n",
       "      <th>title</th>\n",
       "      <th>concatenated_tags</th>\n",
       "      <th>creation_date</th>\n",
       "      <th>price</th>\n",
       "      <th>weight</th>\n",
       "      <th>express_delivery</th>\n",
       "      <th>minimum_quantity</th>\n",
       "      <th>view_counts</th>\n",
       "      <th>order_counts</th>\n",
       "      <th>category</th>\n",
       "    </tr>\n",
       "  </thead>\n",
       "  <tbody>\n",
       "    <tr>\n",
       "      <th>0</th>\n",
       "      <td>11394449</td>\n",
       "      <td>8324141</td>\n",
       "      <td>espirito santo</td>\n",
       "      <td>2</td>\n",
       "      <td>6</td>\n",
       "      <td>Mandala Espírito Santo</td>\n",
       "      <td>mandala mdf</td>\n",
       "      <td>2015-11-14 19:42:12</td>\n",
       "      <td>171.890000</td>\n",
       "      <td>1200.0</td>\n",
       "      <td>1</td>\n",
       "      <td>4</td>\n",
       "      <td>244</td>\n",
       "      <td>NaN</td>\n",
       "      <td>Decoração</td>\n",
       "    </tr>\n",
       "    <tr>\n",
       "      <th>1</th>\n",
       "      <td>15534262</td>\n",
       "      <td>6939286</td>\n",
       "      <td>cartao de visita</td>\n",
       "      <td>2</td>\n",
       "      <td>0</td>\n",
       "      <td>Cartão de Visita</td>\n",
       "      <td>cartao visita panfletos tag adesivos copos lon...</td>\n",
       "      <td>2018-04-04 20:55:07</td>\n",
       "      <td>77.670000</td>\n",
       "      <td>8.0</td>\n",
       "      <td>1</td>\n",
       "      <td>5</td>\n",
       "      <td>124</td>\n",
       "      <td>NaN</td>\n",
       "      <td>Papel e Cia</td>\n",
       "    </tr>\n",
       "    <tr>\n",
       "      <th>2</th>\n",
       "      <td>16153119</td>\n",
       "      <td>9835835</td>\n",
       "      <td>expositor de esmaltes</td>\n",
       "      <td>1</td>\n",
       "      <td>38</td>\n",
       "      <td>Organizador expositor p/ 70 esmaltes</td>\n",
       "      <td>expositor</td>\n",
       "      <td>2018-10-13 20:57:07</td>\n",
       "      <td>73.920006</td>\n",
       "      <td>2709.0</td>\n",
       "      <td>1</td>\n",
       "      <td>1</td>\n",
       "      <td>59</td>\n",
       "      <td>NaN</td>\n",
       "      <td>Outros</td>\n",
       "    </tr>\n",
       "    <tr>\n",
       "      <th>3</th>\n",
       "      <td>15877252</td>\n",
       "      <td>8071206</td>\n",
       "      <td>medidas lencol para berco americano</td>\n",
       "      <td>1</td>\n",
       "      <td>6</td>\n",
       "      <td>Jogo de Lençol Berço Estampado</td>\n",
       "      <td>t jogo lencol menino lencol berco</td>\n",
       "      <td>2017-02-27 13:26:03</td>\n",
       "      <td>118.770004</td>\n",
       "      <td>0.0</td>\n",
       "      <td>1</td>\n",
       "      <td>1</td>\n",
       "      <td>180</td>\n",
       "      <td>1.0</td>\n",
       "      <td>Bebê</td>\n",
       "    </tr>\n",
       "    <tr>\n",
       "      <th>4</th>\n",
       "      <td>15917108</td>\n",
       "      <td>7200773</td>\n",
       "      <td>adesivo box banheiro</td>\n",
       "      <td>3</td>\n",
       "      <td>38</td>\n",
       "      <td>ADESIVO BOX DE BANHEIRO</td>\n",
       "      <td>adesivo box banheiro</td>\n",
       "      <td>2017-05-09 13:18:38</td>\n",
       "      <td>191.810000</td>\n",
       "      <td>507.0</td>\n",
       "      <td>1</td>\n",
       "      <td>6</td>\n",
       "      <td>34</td>\n",
       "      <td>NaN</td>\n",
       "      <td>Decoração</td>\n",
       "    </tr>\n",
       "  </tbody>\n",
       "</table>\n",
       "</div>"
      ],
      "text/plain": [
       "   product_id  seller_id                                query  search_page  \\\n",
       "0    11394449    8324141                       espirito santo            2   \n",
       "1    15534262    6939286                     cartao de visita            2   \n",
       "2    16153119    9835835                expositor de esmaltes            1   \n",
       "3    15877252    8071206  medidas lencol para berco americano            1   \n",
       "4    15917108    7200773                 adesivo box banheiro            3   \n",
       "\n",
       "   position                                 title  \\\n",
       "0         6                Mandala Espírito Santo   \n",
       "1         0                      Cartão de Visita   \n",
       "2        38  Organizador expositor p/ 70 esmaltes   \n",
       "3         6        Jogo de Lençol Berço Estampado   \n",
       "4        38               ADESIVO BOX DE BANHEIRO   \n",
       "\n",
       "                                   concatenated_tags        creation_date  \\\n",
       "0                                        mandala mdf  2015-11-14 19:42:12   \n",
       "1  cartao visita panfletos tag adesivos copos lon...  2018-04-04 20:55:07   \n",
       "2                                          expositor  2018-10-13 20:57:07   \n",
       "3                  t jogo lencol menino lencol berco  2017-02-27 13:26:03   \n",
       "4                               adesivo box banheiro  2017-05-09 13:18:38   \n",
       "\n",
       "        price  weight  express_delivery  minimum_quantity  view_counts  \\\n",
       "0  171.890000  1200.0                 1                 4          244   \n",
       "1   77.670000     8.0                 1                 5          124   \n",
       "2   73.920006  2709.0                 1                 1           59   \n",
       "3  118.770004     0.0                 1                 1          180   \n",
       "4  191.810000   507.0                 1                 6           34   \n",
       "\n",
       "   order_counts     category  \n",
       "0           NaN    Decoração  \n",
       "1           NaN  Papel e Cia  \n",
       "2           NaN       Outros  \n",
       "3           1.0         Bebê  \n",
       "4           NaN    Decoração  "
      ]
     },
     "execution_count": 3,
     "metadata": {},
     "output_type": "execute_result"
    }
   ],
   "source": [
    "dataframe.head()"
   ]
  },
  {
   "cell_type": "markdown",
   "metadata": {
    "id": "8FReapnrjHxz"
   },
   "source": [
    "### 2. Transformação de dados"
   ]
  },
  {
   "cell_type": "code",
   "execution_count": 4,
   "metadata": {
    "colab": {
     "base_uri": "https://localhost:8080/"
    },
    "id": "5n6trxHAi1BM",
    "outputId": "97078b4e-df4f-4ae0-fcc2-47c204101322"
   },
   "outputs": [
    {
     "data": {
      "text/plain": [
       "(38507, 15)"
      ]
     },
     "execution_count": 4,
     "metadata": {},
     "output_type": "execute_result"
    }
   ],
   "source": [
    "dataframe.shape"
   ]
  },
  {
   "cell_type": "code",
   "execution_count": 5,
   "metadata": {
    "colab": {
     "base_uri": "https://localhost:8080/"
    },
    "id": "zXr773cKmPyB",
    "outputId": "2b9e22f9-ea99-4947-c415-9ead6e2a88a3"
   },
   "outputs": [
    {
     "name": "stdout",
     "output_type": "stream",
     "text": [
      "<class 'pandas.core.frame.DataFrame'>\n",
      "RangeIndex: 38507 entries, 0 to 38506\n",
      "Data columns (total 15 columns):\n",
      " #   Column             Non-Null Count  Dtype  \n",
      "---  ------             --------------  -----  \n",
      " 0   product_id         38507 non-null  int64  \n",
      " 1   seller_id          38507 non-null  int64  \n",
      " 2   query              38507 non-null  object \n",
      " 3   search_page        38507 non-null  int64  \n",
      " 4   position           38507 non-null  int64  \n",
      " 5   title              38507 non-null  object \n",
      " 6   concatenated_tags  38505 non-null  object \n",
      " 7   creation_date      38507 non-null  object \n",
      " 8   price              38507 non-null  float64\n",
      " 9   weight             38449 non-null  float64\n",
      " 10  express_delivery   38507 non-null  int64  \n",
      " 11  minimum_quantity   38507 non-null  int64  \n",
      " 12  view_counts        38507 non-null  int64  \n",
      " 13  order_counts       18117 non-null  float64\n",
      " 14  category           38507 non-null  object \n",
      "dtypes: float64(3), int64(7), object(5)\n",
      "memory usage: 4.4+ MB\n"
     ]
    }
   ],
   "source": [
    "dataframe.info()"
   ]
  },
  {
   "cell_type": "code",
   "execution_count": 6,
   "metadata": {
    "id": "bgMrb8jsmncl"
   },
   "outputs": [],
   "source": [
    "dataframe['product_id'] = dataframe['product_id'].astype('category')\n",
    "dataframe['seller_id'] = dataframe['seller_id'].astype('category')\n",
    "dataframe['category'] = dataframe['category'].astype('category')\n",
    "dataframe['creation_date'] = pd.to_datetime(dataframe['creation_date'])"
   ]
  },
  {
   "cell_type": "code",
   "execution_count": 7,
   "metadata": {
    "colab": {
     "base_uri": "https://localhost:8080/"
    },
    "id": "36LA2MTil1-J",
    "outputId": "ceb922f0-2566-402d-ded3-e70c9236ccbe"
   },
   "outputs": [
    {
     "data": {
      "text/plain": [
       "product_id               0\n",
       "seller_id                0\n",
       "query                    0\n",
       "search_page              0\n",
       "position                 0\n",
       "title                    0\n",
       "concatenated_tags        2\n",
       "creation_date            0\n",
       "price                    0\n",
       "weight                  58\n",
       "express_delivery         0\n",
       "minimum_quantity         0\n",
       "view_counts              0\n",
       "order_counts         20390\n",
       "category                 0\n",
       "dtype: int64"
      ]
     },
     "execution_count": 7,
     "metadata": {},
     "output_type": "execute_result"
    }
   ],
   "source": [
    "dataframe.isnull().sum()"
   ]
  },
  {
   "cell_type": "code",
   "execution_count": 8,
   "metadata": {
    "id": "l7G62VaLmFOv"
   },
   "outputs": [],
   "source": [
    "dataframe['order_counts'] = dataframe['order_counts'].fillna(0.0)\n",
    "dataframe['weight'] = dataframe['weight'].fillna(0.0)\n",
    "dataframe['concatenated_tags'] = dataframe['concatenated_tags'].fillna('')"
   ]
  },
  {
   "cell_type": "markdown",
   "metadata": {
    "id": "D7D-BuJzjKg4"
   },
   "source": [
    "### 3. Modelagem\n"
   ]
  },
  {
   "cell_type": "markdown",
   "metadata": {},
   "source": [
    "#### 3.1. Uso das Word Embeddings já treinadas com dados dos títulos\n",
    "\n",
    "O modelo a ser treinado fará uso de um modelo de Word Embeddings já treinado com dados da própria Elo7. Caso deseje, você poderá realizar o treinamento do modelo de Word Embeddings com novos dados usando [este notebook](/notebooks/word-embeddings.ipynb)."
   ]
  },
  {
   "cell_type": "code",
   "execution_count": 9,
   "metadata": {
    "colab": {
     "base_uri": "https://localhost:8080/"
    },
    "id": "Jq4KrYSjOM-L",
    "outputId": "8b055e4f-bf84-4f3b-a749-43f67e766d60"
   },
   "outputs": [],
   "source": [
    "from gensim.models import KeyedVectors\n",
    "modelo_cbow = KeyedVectors.load_word2vec_format(os.getenv('WORD_EMBEDDINGS_PATH'))"
   ]
  },
  {
   "cell_type": "markdown",
   "metadata": {},
   "source": [
    "#### 3.2. Criação da classe de transformação do texto em vetores usando o modelo Word2Vec CBOW."
   ]
  },
  {
   "cell_type": "code",
   "execution_count": 10,
   "metadata": {},
   "outputs": [],
   "source": [
    "# Desabilita a funções nativas do spacy, não utilizadas no projeto, para agilizar a conversão dos dados textuais.\n",
    "nlp = pt_core_news_sm.load(disable=['parser', 'ner', 'tagger', 'textcat'])"
   ]
  },
  {
   "cell_type": "code",
   "execution_count": 11,
   "metadata": {},
   "outputs": [],
   "source": [
    "class WordToVecTranform(BaseEstimator):\n",
    "    \n",
    "    def __init__(self, model):\n",
    "        self.model = model\n",
    "\n",
    "    def fit(self, x, y=None):\n",
    "        return self\n",
    "    \n",
    "    def tokenizer(self, text):\n",
    "        valid_tokens = []\n",
    "        for token in nlp(text):\n",
    "            if not token.is_stop and token.is_alpha:\n",
    "                valid_tokens.append(unidecode.unidecode(token.text.lower()))\n",
    "        return valid_tokens\n",
    "    \n",
    "    def text_to_vector(self, text, model):\n",
    "        result_vector = np.zeros((1,300))\n",
    "        words = self.tokenizer(text)\n",
    "        for word in words:\n",
    "            try:\n",
    "                result_vector += model.get_vector(word)\n",
    "            except KeyError:\n",
    "                pass\n",
    "        return result_vector\n",
    "\n",
    "    def transform(self, X):\n",
    "        \n",
    "        X_len = len(X)\n",
    "        y_len = 300\n",
    "        matrix = np.zeros((X_len, y_len))\n",
    "\n",
    "        vetor_resultante = []\n",
    "        for i, texto in enumerate(X):\n",
    "            matrix[i] = self.text_to_vector(texto, self.model)\n",
    "        return matrix"
   ]
  },
  {
   "cell_type": "markdown",
   "metadata": {},
   "source": [
    "#### 3.3. Criação dos pipelines de aprendizado de máquina"
   ]
  },
  {
   "cell_type": "markdown",
   "metadata": {},
   "source": [
    "Nesta etapa são criados os pipelines compostos pela transformação dos textos em vetores, utilizando o modelo de word embeddings (CBOW) treinado numa etapa anterior, e o modelo de aprendizado de máquina LogisticRegression e DecisionTree."
   ]
  },
  {
   "cell_type": "markdown",
   "metadata": {},
   "source": [
    "##### 3.3.1. Regressão Logística"
   ]
  },
  {
   "cell_type": "code",
   "execution_count": 12,
   "metadata": {},
   "outputs": [],
   "source": [
    "pipeline_logistic_regression = Pipeline([\n",
    "                ('text_transform', WordToVecTranform(modelo_cbow)),\n",
    "                ('model', LogisticRegression(max_iter=10000))\n",
    "            ])"
   ]
  },
  {
   "cell_type": "markdown",
   "metadata": {},
   "source": [
    "##### 3.3.2. Árvore de Decisão"
   ]
  },
  {
   "cell_type": "code",
   "execution_count": 13,
   "metadata": {},
   "outputs": [],
   "source": [
    "pipeline_decision_tree = Pipeline([\n",
    "                ('text_transform', WordToVecTranform(modelo_cbow)),\n",
    "                ('model', DecisionTreeClassifier())\n",
    "            ])"
   ]
  },
  {
   "cell_type": "markdown",
   "metadata": {},
   "source": [
    "##### 3.3.4 Define quais pipelines serão utilizadas na etapa de validação e seleção"
   ]
  },
  {
   "cell_type": "code",
   "execution_count": 14,
   "metadata": {},
   "outputs": [],
   "source": [
    "pipelines = {\n",
    "    'Logistic Regression': pipeline_logistic_regression,\n",
    "    'Decision Tree': pipeline_decision_tree\n",
    "}"
   ]
  },
  {
   "cell_type": "markdown",
   "metadata": {
    "id": "u2HcvAEgjNc6"
   },
   "source": [
    "### 4. Validação do modelo\n"
   ]
  },
  {
   "cell_type": "code",
   "execution_count": 15,
   "metadata": {
    "colab": {
     "base_uri": "https://localhost:8080/"
    },
    "id": "-FhiAvrsoVSe",
    "outputId": "df9ddeb4-f206-42d1-efae-1bd8e715fe2d"
   },
   "outputs": [
    {
     "data": {
      "text/plain": [
       "Lembrancinhas         17759\n",
       "Decoração              8846\n",
       "Bebê                   7026\n",
       "Papel e Cia            2777\n",
       "Outros                 1148\n",
       "Bijuterias e Jóias      951\n",
       "Name: category, dtype: int64"
      ]
     },
     "execution_count": 15,
     "metadata": {},
     "output_type": "execute_result"
    }
   ],
   "source": [
    "dataframe['category'].value_counts()"
   ]
  },
  {
   "cell_type": "code",
   "execution_count": 16,
   "metadata": {
    "colab": {
     "base_uri": "https://localhost:8080/",
     "height": 400
    },
    "id": "YX1bUeJJPpiz",
    "outputId": "c239d550-0323-4ab4-d699-f6054afff6f4"
   },
   "outputs": [
    {
     "data": {
      "image/png": "[encoded data removed]",
      "text/plain": [
       "<Figure size 450x360 with 1 Axes>"
      ]
     },
     "metadata": {
      "needs_background": "light"
     },
     "output_type": "display_data"
    }
   ],
   "source": [
    "sns.catplot(x='category', kind='count', data=dataframe, aspect=5/4,\n",
    "            palette='mako', order=dataframe['category'].value_counts().index);"
   ]
  },
  {
   "cell_type": "markdown",
   "metadata": {},
   "source": [
    "Com base na análise dos dados, verifica-se um desbalanceamento das classes. Portanto, far-se-á necessário preservar o percentual de amostras de cada classe durante o treinamento e teste do modelo. Para tanto, serão utilizados técnicas para estratificar as classes, quais sejam, parâmetro stratify no treinamento/teste hold-out e uso StratifiedKFold na validação cruzada."
   ]
  },
  {
   "cell_type": "code",
   "execution_count": 17,
   "metadata": {},
   "outputs": [],
   "source": [
    "def evaluate_model(model, X_train, y_train):\n",
    "    model.fit(X_train, y_train)\n",
    "    return model"
   ]
  },
  {
   "cell_type": "code",
   "execution_count": 18,
   "metadata": {},
   "outputs": [],
   "source": [
    "def show_model_result(name, model, X_test, y_test):\n",
    "    y_pred = model.predict(X_test)    \n",
    "    result = classification_report(y_test, y_pred)\n",
    "    print(name)\n",
    "    print(result)"
   ]
  },
  {
   "cell_type": "code",
   "execution_count": 19,
   "metadata": {},
   "outputs": [],
   "source": [
    "def show_confusion_matrix(name, model, X_train, y_train, X_test, y_test):\n",
    "    fig, ax = plt.subplots(nrows=1, ncols=2, figsize=(14, 7))\n",
    "    plot_confusion_matrix(model, X_train, y_train, normalize='true', xticks_rotation=90, values_format=\".3f\", cmap='Blues', ax=ax[0])\n",
    "    plot_confusion_matrix(model, X_test, y_test, normalize='true', xticks_rotation=90, values_format=\".3f\", cmap='Blues', ax=ax[1])\n",
    "    ax[0].title.set_text('Treinamento')\n",
    "    ax[1].title.set_text('Teste')\n",
    "    fig.suptitle(name, fontsize=16)\n",
    "    fig.tight_layout()"
   ]
  },
  {
   "cell_type": "markdown",
   "metadata": {},
   "source": [
    "##### 4.1. Definição dos dados de entrada e saída utilizados no modelo"
   ]
  },
  {
   "cell_type": "code",
   "execution_count": 20,
   "metadata": {},
   "outputs": [],
   "source": [
    "X = dataframe['title']\n",
    "y = dataframe['category']"
   ]
  },
  {
   "cell_type": "markdown",
   "metadata": {},
   "source": [
    "##### 4.2. Uso da validação hold-out (80%/20%)"
   ]
  },
  {
   "cell_type": "code",
   "execution_count": 21,
   "metadata": {},
   "outputs": [],
   "source": [
    "X_train, X_test, y_train, y_test = train_test_split(X, y,\n",
    "                                                    test_size=0.2,\n",
    "                                                    random_state=0,\n",
    "                                                    shuffle=True,\n",
    "                                                    stratify=y)"
   ]
  },
  {
   "cell_type": "code",
   "execution_count": 22,
   "metadata": {},
   "outputs": [
    {
     "name": "stdout",
     "output_type": "stream",
     "text": [
      "Logistic Regression\n",
      "                    precision    recall  f1-score   support\n",
      "\n",
      "              Bebê       0.86      0.79      0.82      1405\n",
      "Bijuterias e Jóias       0.86      0.88      0.87       190\n",
      "         Decoração       0.85      0.87      0.86      1769\n",
      "     Lembrancinhas       0.86      0.92      0.89      3552\n",
      "            Outros       0.62      0.40      0.49       230\n",
      "       Papel e Cia       0.71      0.62      0.66       556\n",
      "\n",
      "          accuracy                           0.84      7702\n",
      "         macro avg       0.79      0.74      0.76      7702\n",
      "      weighted avg       0.84      0.84      0.84      7702\n",
      "\n",
      "Decision Tree\n",
      "                    precision    recall  f1-score   support\n",
      "\n",
      "              Bebê       0.81      0.80      0.81      1405\n",
      "Bijuterias e Jóias       0.76      0.82      0.78       190\n",
      "         Decoração       0.84      0.82      0.83      1769\n",
      "     Lembrancinhas       0.88      0.89      0.88      3552\n",
      "            Outros       0.49      0.50      0.50       230\n",
      "       Papel e Cia       0.65      0.65      0.65       556\n",
      "\n",
      "          accuracy                           0.83      7702\n",
      "         macro avg       0.74      0.75      0.74      7702\n",
      "      weighted avg       0.83      0.83      0.83      7702\n",
      "\n"
     ]
    }
   ],
   "source": [
    "for name, pipeline in pipelines.items():\n",
    "    show_model_result(name, evaluate_model(pipeline, X_train, y_train), X_test, y_test)"
   ]
  },
  {
   "cell_type": "code",
   "execution_count": 23,
   "metadata": {},
   "outputs": [
    {
     "data": {
      "image/png": "[encoded data removed]",
      "text/plain": [
       "<Figure size 1008x504 with 4 Axes>"
      ]
     },
     "metadata": {
      "needs_background": "light"
     },
     "output_type": "display_data"
    },
    {
     "data": {
      "image/png": "[encoded data removed]",
      "text/plain": [
       "<Figure size 1008x504 with 4 Axes>"
      ]
     },
     "metadata": {
      "needs_background": "light"
     },
     "output_type": "display_data"
    }
   ],
   "source": [
    "for name, pipeline in pipelines.items():\n",
    "    show_confusion_matrix(name, pipeline, X_train, y_train, X_test, y_test)"
   ]
  },
  {
   "cell_type": "markdown",
   "metadata": {},
   "source": [
    "##### 4.3. Uso da validação cruzada"
   ]
  },
  {
   "cell_type": "code",
   "execution_count": 24,
   "metadata": {},
   "outputs": [],
   "source": [
    "def cross_validation(pipeline, X, y):\n",
    "    cv = StratifiedKFold(n_splits=10, shuffle=True, random_state=0)\n",
    "    results = cross_validate(pipeline, X,\n",
    "                         y=y,\n",
    "                         cv=cv,\n",
    "                         return_train_score=False,\n",
    "                         n_jobs=-1)\n",
    "    return results['test_score'].mean()"
   ]
  },
  {
   "cell_type": "code",
   "execution_count": 25,
   "metadata": {},
   "outputs": [
    {
     "data": {
      "image/png": "[encoded data removed]",
      "text/plain": [
       "<Figure size 432x288 with 1 Axes>"
      ]
     },
     "metadata": {
      "needs_background": "light"
     },
     "output_type": "display_data"
    }
   ],
   "source": [
    "models = []\n",
    "results = []\n",
    "\n",
    "for name, pipeline in pipelines.items():\n",
    "    models.append(name)\n",
    "    results.append(cross_validation(pipeline, X, y))\n",
    "    \n",
    "df_result = pd.DataFrame({'model': models, 'accuracy':results})\n",
    "df_result.plot.bar(x='model', y='accuracy', rot=0, legend=False);"
   ]
  },
  {
   "cell_type": "markdown",
   "metadata": {
    "id": "aA8MGveEjP4s"
   },
   "source": [
    "### 5. Exportação do modelo"
   ]
  },
  {
   "cell_type": "code",
   "execution_count": 26,
   "metadata": {
    "id": "xxlX9yuijROj"
   },
   "outputs": [],
   "source": [
    "def save_model(model, path):\n",
    "    with open(path, 'wb') as f:\n",
    "        cloudpickle.dump(model, f)"
   ]
  },
  {
   "cell_type": "code",
   "execution_count": 27,
   "metadata": {},
   "outputs": [
    {
     "name": "stdout",
     "output_type": "stream",
     "text": [
      "Logistic Regression saved.\n"
     ]
    }
   ],
   "source": [
    "best_model = df_result.sort_values('accuracy', ascending=False).iloc[0]['model']\n",
    "save_model(pipelines.get(best_model), os.getenv('MODEL_PATH'))\n",
    "print(f'{best_model} saved.')"
   ]
  },
  {
   "cell_type": "code",
   "execution_count": null,
   "metadata": {},
   "outputs": [],
   "source": []
  }
 ],
 "metadata": {
  "colab": {
   "collapsed_sections": [],
   "name": "elo7_treinamento_clustering.ipynb",
   "provenance": [],
   "toc_visible": true
  },
  "kernelspec": {
   "display_name": "Python 3",
   "language": "python",
   "name": "python3"
  },
  "language_info": {
   "codemirror_mode": {
    "name": "ipython",
    "version": 3
   },
   "file_extension": ".py",
   "mimetype": "text/x-python",
   "name": "python",
   "nbconvert_exporter": "python",
   "pygments_lexer": "ipython3",
   "version": "3.9.2"
  }
 },
 "nbformat": 4,
 "nbformat_minor": 1
}
