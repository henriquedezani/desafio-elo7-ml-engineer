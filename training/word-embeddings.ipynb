{
 "cells": [
  {
   "cell_type": "markdown",
   "metadata": {},
   "source": [
    "# Treinamento das Word Embeddings"
   ]
  },
  {
   "cell_type": "code",
   "execution_count": 1,
   "metadata": {},
   "outputs": [],
   "source": [
    "import os\n",
    "import pandas as pd\n",
    "import numpy as np\n",
    "import spacy\n",
    "import pt_core_news_sm\n",
    "import unidecode\n",
    "nlp = pt_core_news_sm.load(disable=['parser', 'ner', 'tagger', 'textcat'])"
   ]
  },
  {
   "cell_type": "code",
   "execution_count": 2,
   "metadata": {},
   "outputs": [],
   "source": [
    "dataframe = pd.read_csv(os.getenv('DATASET_PATH'))"
   ]
  },
  {
   "cell_type": "markdown",
   "metadata": {},
   "source": [
    "## Pré-processamento dos textos"
   ]
  },
  {
   "cell_type": "code",
   "execution_count": 3,
   "metadata": {},
   "outputs": [],
   "source": [
    "def to_lower(texts):\n",
    "    return (text.lower() for text in texts)"
   ]
  },
  {
   "cell_type": "code",
   "execution_count": 4,
   "metadata": {},
   "outputs": [],
   "source": [
    "def preprocessing_text(doc):\n",
    "    valid_tokens = []\n",
    "    for token in doc:\n",
    "        if not token.is_stop and token.is_alpha:\n",
    "            valid_tokens.append(unidecode.unidecode(token.text))\n",
    "    return ' '.join(valid_tokens)"
   ]
  },
  {
   "cell_type": "code",
   "execution_count": 5,
   "metadata": {},
   "outputs": [],
   "source": [
    "processed_texts = [preprocessing_text(doc) for doc in nlp.pipe(to_lower(dataframe['title']),\n",
    "                                                               batch_size=1000,\n",
    "                                                               n_process=-1)]"
   ]
  },
  {
   "cell_type": "markdown",
   "metadata": {},
   "source": [
    "## Word Embeddings\n",
    "Nesta etapa são criados os vetores de palavras."
   ]
  },
  {
   "cell_type": "code",
   "execution_count": 6,
   "metadata": {},
   "outputs": [],
   "source": [
    "import logging\n",
    "logging.basicConfig(format='%(asctime)s : %(message)s', level= logging.INFO)"
   ]
  },
  {
   "cell_type": "code",
   "execution_count": 7,
   "metadata": {},
   "outputs": [],
   "source": [
    "from gensim.models import Word2Vec\n",
    "\n",
    "modelo_cbow = Word2Vec(sg = 0,           # CBOW (sg = 0)\n",
    "                    window = 2,          # considera 2 palavras antes e 2 depois\n",
    "                    size = 300,          # tamanho do vetor de palavras: 300\n",
    "                    min_count = 0,       # define a quantidade mínima de palavras no texto para ser considerada.\n",
    "                    alpha = 0.03,        # taxa de aprendizagem da RNA\n",
    "                    min_alpha = 0.007    # taxa de aprendizagem (minimizada a cada época)\n",
    "                    )  "
   ]
  },
  {
   "cell_type": "code",
   "execution_count": 8,
   "metadata": {},
   "outputs": [],
   "source": [
    "list_titles_tokens = [title.split(\" \") for title in processed_texts]"
   ]
  },
  {
   "cell_type": "code",
   "execution_count": 9,
   "metadata": {},
   "outputs": [
    {
     "name": "stderr",
     "output_type": "stream",
     "text": [
      "2021-03-24 10:44:05,309 : collecting all words and their counts\n",
      "2021-03-24 10:44:05,317 : PROGRESS: at sentence #0, processed 0 words, keeping 0 word types\n",
      "2021-03-24 10:44:05,328 : PROGRESS: at sentence #5000, processed 18630 words, keeping 2663 word types\n",
      "2021-03-24 10:44:05,352 : PROGRESS: at sentence #10000, processed 37135 words, keeping 3601 word types\n",
      "2021-03-24 10:44:05,378 : PROGRESS: at sentence #15000, processed 55522 words, keeping 4234 word types\n",
      "2021-03-24 10:44:05,418 : PROGRESS: at sentence #20000, processed 74079 words, keeping 4805 word types\n",
      "2021-03-24 10:44:05,470 : PROGRESS: at sentence #25000, processed 92438 words, keeping 5208 word types\n",
      "2021-03-24 10:44:05,515 : PROGRESS: at sentence #30000, processed 110999 words, keeping 5592 word types\n",
      "2021-03-24 10:44:05,539 : PROGRESS: at sentence #35000, processed 129376 words, keeping 5902 word types\n",
      "2021-03-24 10:44:05,569 : collected 6121 word types from a corpus of 142380 raw words and 38507 sentences\n",
      "2021-03-24 10:44:05,577 : Loading a fresh vocabulary\n",
      "2021-03-24 10:44:05,661 : effective_min_count=0 retains 6121 unique words (100% of original 6121, drops 0)\n",
      "2021-03-24 10:44:05,665 : effective_min_count=0 leaves 142380 word corpus (100% of original 142380, drops 0)\n",
      "2021-03-24 10:44:05,738 : deleting the raw counts dictionary of 6121 items\n",
      "2021-03-24 10:44:05,742 : sample=0.001 downsamples 50 most-common words\n",
      "2021-03-24 10:44:05,744 : downsampling leaves estimated 114307 word corpus (80.3% of prior 142380)\n",
      "2021-03-24 10:44:05,829 : estimated required memory for 6121 words and 300 dimensions: 17750900 bytes\n",
      "2021-03-24 10:44:05,843 : resetting layer weights\n"
     ]
    }
   ],
   "source": [
    "modelo_cbow.build_vocab(list_titles_tokens, progress_per=5000)"
   ]
  },
  {
   "cell_type": "code",
   "execution_count": 10,
   "metadata": {},
   "outputs": [
    {
     "data": {
      "text/plain": [
       "38507"
      ]
     },
     "execution_count": 10,
     "metadata": {},
     "output_type": "execute_result"
    }
   ],
   "source": [
    "modelo_cbow.corpus_count"
   ]
  },
  {
   "cell_type": "code",
   "execution_count": 11,
   "metadata": {},
   "outputs": [
    {
     "name": "stderr",
     "output_type": "stream",
     "text": [
      "2021-03-24 10:44:07,449 : training model with 3 workers on 6121 vocabulary and 300 features, using sg=0 hs=0 sample=0.001 negative=5 window=2\n",
      "2021-03-24 10:44:07,767 : worker thread finished; awaiting finish of 2 more threads\n",
      "2021-03-24 10:44:07,769 : worker thread finished; awaiting finish of 1 more threads\n",
      "2021-03-24 10:44:07,772 : worker thread finished; awaiting finish of 0 more threads\n",
      "2021-03-24 10:44:07,776 : EPOCH - 1 : training on 142380 raw words (114200 effective words) took 0.3s, 375339 effective words/s\n",
      "2021-03-24 10:44:08,056 : worker thread finished; awaiting finish of 2 more threads\n",
      "2021-03-24 10:44:08,075 : worker thread finished; awaiting finish of 1 more threads\n",
      "2021-03-24 10:44:08,084 : worker thread finished; awaiting finish of 0 more threads\n",
      "2021-03-24 10:44:08,087 : EPOCH - 2 : training on 142380 raw words (114102 effective words) took 0.3s, 423019 effective words/s\n",
      "2021-03-24 10:44:08,413 : worker thread finished; awaiting finish of 2 more threads\n",
      "2021-03-24 10:44:08,415 : worker thread finished; awaiting finish of 1 more threads\n",
      "2021-03-24 10:44:08,425 : worker thread finished; awaiting finish of 0 more threads\n",
      "2021-03-24 10:44:08,427 : EPOCH - 3 : training on 142380 raw words (114344 effective words) took 0.3s, 356528 effective words/s\n",
      "2021-03-24 10:44:08,783 : worker thread finished; awaiting finish of 2 more threads\n",
      "2021-03-24 10:44:08,785 : worker thread finished; awaiting finish of 1 more threads\n",
      "2021-03-24 10:44:08,821 : worker thread finished; awaiting finish of 0 more threads\n",
      "2021-03-24 10:44:08,825 : EPOCH - 4 : training on 142380 raw words (114292 effective words) took 0.4s, 294766 effective words/s\n",
      "2021-03-24 10:44:09,089 : worker thread finished; awaiting finish of 2 more threads\n",
      "2021-03-24 10:44:09,100 : worker thread finished; awaiting finish of 1 more threads\n",
      "2021-03-24 10:44:09,114 : worker thread finished; awaiting finish of 0 more threads\n",
      "2021-03-24 10:44:09,116 : EPOCH - 5 : training on 142380 raw words (114404 effective words) took 0.3s, 455844 effective words/s\n",
      "2021-03-24 10:44:09,359 : worker thread finished; awaiting finish of 2 more threads\n",
      "2021-03-24 10:44:09,381 : worker thread finished; awaiting finish of 1 more threads\n",
      "2021-03-24 10:44:09,450 : worker thread finished; awaiting finish of 0 more threads\n",
      "2021-03-24 10:44:09,471 : EPOCH - 6 : training on 142380 raw words (114274 effective words) took 0.4s, 303237 effective words/s\n",
      "2021-03-24 10:44:09,744 : worker thread finished; awaiting finish of 2 more threads\n",
      "2021-03-24 10:44:09,759 : worker thread finished; awaiting finish of 1 more threads\n",
      "2021-03-24 10:44:09,763 : worker thread finished; awaiting finish of 0 more threads\n",
      "2021-03-24 10:44:09,771 : EPOCH - 7 : training on 142380 raw words (114166 effective words) took 0.3s, 406643 effective words/s\n",
      "2021-03-24 10:44:10,094 : worker thread finished; awaiting finish of 2 more threads\n",
      "2021-03-24 10:44:10,097 : worker thread finished; awaiting finish of 1 more threads\n",
      "2021-03-24 10:44:10,106 : worker thread finished; awaiting finish of 0 more threads\n",
      "2021-03-24 10:44:10,108 : EPOCH - 8 : training on 142380 raw words (114462 effective words) took 0.3s, 392002 effective words/s\n",
      "2021-03-24 10:44:10,377 : worker thread finished; awaiting finish of 2 more threads\n",
      "2021-03-24 10:44:10,385 : worker thread finished; awaiting finish of 1 more threads\n",
      "2021-03-24 10:44:10,412 : worker thread finished; awaiting finish of 0 more threads\n",
      "2021-03-24 10:44:10,415 : EPOCH - 9 : training on 142380 raw words (114241 effective words) took 0.3s, 411100 effective words/s\n",
      "2021-03-24 10:44:10,719 : worker thread finished; awaiting finish of 2 more threads\n",
      "2021-03-24 10:44:10,747 : worker thread finished; awaiting finish of 1 more threads\n",
      "2021-03-24 10:44:10,750 : worker thread finished; awaiting finish of 0 more threads\n",
      "2021-03-24 10:44:10,752 : EPOCH - 10 : training on 142380 raw words (114285 effective words) took 0.3s, 377403 effective words/s\n",
      "2021-03-24 10:44:11,045 : worker thread finished; awaiting finish of 2 more threads\n",
      "2021-03-24 10:44:11,055 : worker thread finished; awaiting finish of 1 more threads\n",
      "2021-03-24 10:44:11,075 : worker thread finished; awaiting finish of 0 more threads\n",
      "2021-03-24 10:44:11,086 : EPOCH - 11 : training on 142380 raw words (114448 effective words) took 0.3s, 395735 effective words/s\n",
      "2021-03-24 10:44:11,592 : worker thread finished; awaiting finish of 2 more threads\n",
      "2021-03-24 10:44:11,594 : worker thread finished; awaiting finish of 1 more threads\n",
      "2021-03-24 10:44:11,628 : worker thread finished; awaiting finish of 0 more threads\n",
      "2021-03-24 10:44:11,631 : EPOCH - 12 : training on 142380 raw words (114303 effective words) took 0.5s, 223722 effective words/s\n",
      "2021-03-24 10:44:11,913 : worker thread finished; awaiting finish of 2 more threads\n",
      "2021-03-24 10:44:11,941 : worker thread finished; awaiting finish of 1 more threads\n",
      "2021-03-24 10:44:11,948 : worker thread finished; awaiting finish of 0 more threads\n",
      "2021-03-24 10:44:11,952 : EPOCH - 13 : training on 142380 raw words (114306 effective words) took 0.3s, 411224 effective words/s\n",
      "2021-03-24 10:44:12,283 : worker thread finished; awaiting finish of 2 more threads\n",
      "2021-03-24 10:44:12,295 : worker thread finished; awaiting finish of 1 more threads\n",
      "2021-03-24 10:44:12,313 : worker thread finished; awaiting finish of 0 more threads\n",
      "2021-03-24 10:44:12,319 : EPOCH - 14 : training on 142380 raw words (114368 effective words) took 0.3s, 348444 effective words/s\n",
      "2021-03-24 10:44:12,732 : worker thread finished; awaiting finish of 2 more threads\n",
      "2021-03-24 10:44:12,752 : worker thread finished; awaiting finish of 1 more threads\n",
      "2021-03-24 10:44:12,819 : worker thread finished; awaiting finish of 0 more threads\n",
      "2021-03-24 10:44:12,820 : EPOCH - 15 : training on 142380 raw words (114219 effective words) took 0.5s, 237942 effective words/s\n",
      "2021-03-24 10:44:13,306 : worker thread finished; awaiting finish of 2 more threads\n",
      "2021-03-24 10:44:13,356 : worker thread finished; awaiting finish of 1 more threads\n",
      "2021-03-24 10:44:13,367 : worker thread finished; awaiting finish of 0 more threads\n",
      "2021-03-24 10:44:13,369 : EPOCH - 16 : training on 142380 raw words (114328 effective words) took 0.5s, 222526 effective words/s\n",
      "2021-03-24 10:44:13,704 : worker thread finished; awaiting finish of 2 more threads\n",
      "2021-03-24 10:44:13,710 : worker thread finished; awaiting finish of 1 more threads\n",
      "2021-03-24 10:44:13,715 : worker thread finished; awaiting finish of 0 more threads\n",
      "2021-03-24 10:44:13,716 : EPOCH - 17 : training on 142380 raw words (114380 effective words) took 0.3s, 367636 effective words/s\n",
      "2021-03-24 10:44:14,202 : worker thread finished; awaiting finish of 2 more threads\n",
      "2021-03-24 10:44:14,221 : worker thread finished; awaiting finish of 1 more threads\n",
      "2021-03-24 10:44:14,232 : worker thread finished; awaiting finish of 0 more threads\n",
      "2021-03-24 10:44:14,235 : EPOCH - 18 : training on 142380 raw words (114130 effective words) took 0.5s, 233974 effective words/s\n",
      "2021-03-24 10:44:15,096 : worker thread finished; awaiting finish of 2 more threads\n",
      "2021-03-24 10:44:15,099 : worker thread finished; awaiting finish of 1 more threads\n",
      "2021-03-24 10:44:15,187 : worker thread finished; awaiting finish of 0 more threads\n",
      "2021-03-24 10:44:15,191 : EPOCH - 19 : training on 142380 raw words (114223 effective words) took 0.9s, 134188 effective words/s\n",
      "2021-03-24 10:44:15,609 : worker thread finished; awaiting finish of 2 more threads\n",
      "2021-03-24 10:44:15,633 : worker thread finished; awaiting finish of 1 more threads\n",
      "2021-03-24 10:44:15,636 : worker thread finished; awaiting finish of 0 more threads\n",
      "2021-03-24 10:44:15,643 : EPOCH - 20 : training on 142380 raw words (114122 effective words) took 0.4s, 272679 effective words/s\n",
      "2021-03-24 10:44:16,003 : worker thread finished; awaiting finish of 2 more threads\n",
      "2021-03-24 10:44:16,017 : worker thread finished; awaiting finish of 1 more threads\n",
      "2021-03-24 10:44:16,019 : worker thread finished; awaiting finish of 0 more threads\n",
      "2021-03-24 10:44:16,020 : EPOCH - 21 : training on 142380 raw words (114265 effective words) took 0.3s, 348737 effective words/s\n",
      "2021-03-24 10:44:16,378 : worker thread finished; awaiting finish of 2 more threads\n"
     ]
    },
    {
     "name": "stderr",
     "output_type": "stream",
     "text": [
      "2021-03-24 10:44:16,386 : worker thread finished; awaiting finish of 1 more threads\n",
      "2021-03-24 10:44:16,398 : worker thread finished; awaiting finish of 0 more threads\n",
      "2021-03-24 10:44:16,402 : EPOCH - 22 : training on 142380 raw words (114248 effective words) took 0.3s, 366462 effective words/s\n",
      "2021-03-24 10:44:16,721 : worker thread finished; awaiting finish of 2 more threads\n",
      "2021-03-24 10:44:16,739 : worker thread finished; awaiting finish of 1 more threads\n",
      "2021-03-24 10:44:16,762 : worker thread finished; awaiting finish of 0 more threads\n",
      "2021-03-24 10:44:16,772 : EPOCH - 23 : training on 142380 raw words (114192 effective words) took 0.3s, 331858 effective words/s\n",
      "2021-03-24 10:44:17,025 : worker thread finished; awaiting finish of 2 more threads\n",
      "2021-03-24 10:44:17,030 : worker thread finished; awaiting finish of 1 more threads\n",
      "2021-03-24 10:44:17,039 : worker thread finished; awaiting finish of 0 more threads\n",
      "2021-03-24 10:44:17,042 : EPOCH - 24 : training on 142380 raw words (114261 effective words) took 0.3s, 449301 effective words/s\n",
      "2021-03-24 10:44:17,271 : worker thread finished; awaiting finish of 2 more threads\n",
      "2021-03-24 10:44:17,297 : worker thread finished; awaiting finish of 1 more threads\n",
      "2021-03-24 10:44:17,308 : worker thread finished; awaiting finish of 0 more threads\n",
      "2021-03-24 10:44:17,313 : EPOCH - 25 : training on 142380 raw words (114264 effective words) took 0.3s, 441954 effective words/s\n",
      "2021-03-24 10:44:17,576 : worker thread finished; awaiting finish of 2 more threads\n",
      "2021-03-24 10:44:17,581 : worker thread finished; awaiting finish of 1 more threads\n",
      "2021-03-24 10:44:17,607 : worker thread finished; awaiting finish of 0 more threads\n",
      "2021-03-24 10:44:17,610 : EPOCH - 26 : training on 142380 raw words (114237 effective words) took 0.3s, 424416 effective words/s\n",
      "2021-03-24 10:44:17,847 : worker thread finished; awaiting finish of 2 more threads\n",
      "2021-03-24 10:44:17,864 : worker thread finished; awaiting finish of 1 more threads\n",
      "2021-03-24 10:44:17,880 : worker thread finished; awaiting finish of 0 more threads\n",
      "2021-03-24 10:44:17,888 : EPOCH - 27 : training on 142380 raw words (114323 effective words) took 0.2s, 490642 effective words/s\n",
      "2021-03-24 10:44:18,117 : worker thread finished; awaiting finish of 2 more threads\n",
      "2021-03-24 10:44:18,126 : worker thread finished; awaiting finish of 1 more threads\n",
      "2021-03-24 10:44:18,147 : worker thread finished; awaiting finish of 0 more threads\n",
      "2021-03-24 10:44:18,148 : EPOCH - 28 : training on 142380 raw words (114172 effective words) took 0.2s, 469057 effective words/s\n",
      "2021-03-24 10:44:18,452 : worker thread finished; awaiting finish of 2 more threads\n",
      "2021-03-24 10:44:18,458 : worker thread finished; awaiting finish of 1 more threads\n",
      "2021-03-24 10:44:18,460 : worker thread finished; awaiting finish of 0 more threads\n",
      "2021-03-24 10:44:18,464 : EPOCH - 29 : training on 142380 raw words (114071 effective words) took 0.3s, 394923 effective words/s\n",
      "2021-03-24 10:44:18,765 : worker thread finished; awaiting finish of 2 more threads\n",
      "2021-03-24 10:44:18,776 : worker thread finished; awaiting finish of 1 more threads\n",
      "2021-03-24 10:44:18,778 : worker thread finished; awaiting finish of 0 more threads\n",
      "2021-03-24 10:44:18,782 : EPOCH - 30 : training on 142380 raw words (114181 effective words) took 0.3s, 390729 effective words/s\n",
      "2021-03-24 10:44:19,037 : worker thread finished; awaiting finish of 2 more threads\n",
      "2021-03-24 10:44:19,046 : worker thread finished; awaiting finish of 1 more threads\n",
      "2021-03-24 10:44:19,081 : worker thread finished; awaiting finish of 0 more threads\n",
      "2021-03-24 10:44:19,089 : EPOCH - 31 : training on 142380 raw words (114204 effective words) took 0.3s, 391868 effective words/s\n",
      "2021-03-24 10:44:19,308 : worker thread finished; awaiting finish of 2 more threads\n",
      "2021-03-24 10:44:19,323 : worker thread finished; awaiting finish of 1 more threads\n",
      "2021-03-24 10:44:19,349 : worker thread finished; awaiting finish of 0 more threads\n",
      "2021-03-24 10:44:19,355 : EPOCH - 32 : training on 142380 raw words (114328 effective words) took 0.2s, 499131 effective words/s\n",
      "2021-03-24 10:44:19,621 : worker thread finished; awaiting finish of 2 more threads\n",
      "2021-03-24 10:44:19,630 : worker thread finished; awaiting finish of 1 more threads\n",
      "2021-03-24 10:44:19,657 : worker thread finished; awaiting finish of 0 more threads\n",
      "2021-03-24 10:44:19,659 : EPOCH - 33 : training on 142380 raw words (114504 effective words) took 0.3s, 391130 effective words/s\n",
      "2021-03-24 10:44:19,938 : worker thread finished; awaiting finish of 2 more threads\n",
      "2021-03-24 10:44:19,947 : worker thread finished; awaiting finish of 1 more threads\n",
      "2021-03-24 10:44:19,957 : worker thread finished; awaiting finish of 0 more threads\n",
      "2021-03-24 10:44:19,959 : EPOCH - 34 : training on 142380 raw words (114324 effective words) took 0.3s, 394766 effective words/s\n",
      "2021-03-24 10:44:20,192 : worker thread finished; awaiting finish of 2 more threads\n",
      "2021-03-24 10:44:20,211 : worker thread finished; awaiting finish of 1 more threads\n",
      "2021-03-24 10:44:20,217 : worker thread finished; awaiting finish of 0 more threads\n",
      "2021-03-24 10:44:20,218 : EPOCH - 35 : training on 142380 raw words (114169 effective words) took 0.2s, 490443 effective words/s\n",
      "2021-03-24 10:44:20,449 : worker thread finished; awaiting finish of 2 more threads\n",
      "2021-03-24 10:44:20,459 : worker thread finished; awaiting finish of 1 more threads\n",
      "2021-03-24 10:44:20,490 : worker thread finished; awaiting finish of 0 more threads\n",
      "2021-03-24 10:44:20,492 : EPOCH - 36 : training on 142380 raw words (114272 effective words) took 0.3s, 454655 effective words/s\n",
      "2021-03-24 10:44:20,718 : worker thread finished; awaiting finish of 2 more threads\n",
      "2021-03-24 10:44:20,728 : worker thread finished; awaiting finish of 1 more threads\n",
      "2021-03-24 10:44:20,757 : worker thread finished; awaiting finish of 0 more threads\n",
      "2021-03-24 10:44:20,758 : EPOCH - 37 : training on 142380 raw words (114343 effective words) took 0.3s, 454460 effective words/s\n",
      "2021-03-24 10:44:21,010 : worker thread finished; awaiting finish of 2 more threads\n",
      "2021-03-24 10:44:21,016 : worker thread finished; awaiting finish of 1 more threads\n",
      "2021-03-24 10:44:21,034 : worker thread finished; awaiting finish of 0 more threads\n",
      "2021-03-24 10:44:21,036 : EPOCH - 38 : training on 142380 raw words (114372 effective words) took 0.3s, 444567 effective words/s\n",
      "2021-03-24 10:44:21,263 : worker thread finished; awaiting finish of 2 more threads\n",
      "2021-03-24 10:44:21,272 : worker thread finished; awaiting finish of 1 more threads\n",
      "2021-03-24 10:44:21,284 : worker thread finished; awaiting finish of 0 more threads\n",
      "2021-03-24 10:44:21,285 : EPOCH - 39 : training on 142380 raw words (114444 effective words) took 0.2s, 510475 effective words/s\n",
      "2021-03-24 10:44:21,517 : worker thread finished; awaiting finish of 2 more threads\n",
      "2021-03-24 10:44:21,527 : worker thread finished; awaiting finish of 1 more threads\n",
      "2021-03-24 10:44:21,536 : worker thread finished; awaiting finish of 0 more threads\n",
      "2021-03-24 10:44:21,539 : EPOCH - 40 : training on 142380 raw words (114247 effective words) took 0.2s, 494303 effective words/s\n",
      "2021-03-24 10:44:21,822 : worker thread finished; awaiting finish of 2 more threads\n",
      "2021-03-24 10:44:21,828 : worker thread finished; awaiting finish of 1 more threads\n",
      "2021-03-24 10:44:21,843 : worker thread finished; awaiting finish of 0 more threads\n",
      "2021-03-24 10:44:21,844 : EPOCH - 41 : training on 142380 raw words (114405 effective words) took 0.3s, 414187 effective words/s\n",
      "2021-03-24 10:44:22,092 : worker thread finished; awaiting finish of 2 more threads\n",
      "2021-03-24 10:44:22,109 : worker thread finished; awaiting finish of 1 more threads\n",
      "2021-03-24 10:44:22,111 : worker thread finished; awaiting finish of 0 more threads\n",
      "2021-03-24 10:44:22,117 : EPOCH - 42 : training on 142380 raw words (114404 effective words) took 0.3s, 438818 effective words/s\n",
      "2021-03-24 10:44:22,454 : worker thread finished; awaiting finish of 2 more threads\n",
      "2021-03-24 10:44:22,464 : worker thread finished; awaiting finish of 1 more threads\n",
      "2021-03-24 10:44:22,479 : worker thread finished; awaiting finish of 0 more threads\n",
      "2021-03-24 10:44:22,486 : EPOCH - 43 : training on 142380 raw words (114065 effective words) took 0.3s, 332976 effective words/s\n"
     ]
    },
    {
     "name": "stderr",
     "output_type": "stream",
     "text": [
      "2021-03-24 10:44:22,864 : worker thread finished; awaiting finish of 2 more threads\n",
      "2021-03-24 10:44:22,871 : worker thread finished; awaiting finish of 1 more threads\n",
      "2021-03-24 10:44:22,899 : worker thread finished; awaiting finish of 0 more threads\n",
      "2021-03-24 10:44:22,903 : EPOCH - 44 : training on 142380 raw words (114430 effective words) took 0.4s, 309957 effective words/s\n",
      "2021-03-24 10:44:23,251 : worker thread finished; awaiting finish of 2 more threads\n",
      "2021-03-24 10:44:23,287 : worker thread finished; awaiting finish of 1 more threads\n",
      "2021-03-24 10:44:23,288 : worker thread finished; awaiting finish of 0 more threads\n",
      "2021-03-24 10:44:23,301 : EPOCH - 45 : training on 142380 raw words (114293 effective words) took 0.4s, 302132 effective words/s\n",
      "2021-03-24 10:44:23,690 : worker thread finished; awaiting finish of 2 more threads\n",
      "2021-03-24 10:44:23,700 : worker thread finished; awaiting finish of 1 more threads\n",
      "2021-03-24 10:44:23,707 : worker thread finished; awaiting finish of 0 more threads\n",
      "2021-03-24 10:44:23,717 : EPOCH - 46 : training on 142380 raw words (114208 effective words) took 0.4s, 301034 effective words/s\n",
      "2021-03-24 10:44:24,054 : worker thread finished; awaiting finish of 2 more threads\n",
      "2021-03-24 10:44:24,073 : worker thread finished; awaiting finish of 1 more threads\n",
      "2021-03-24 10:44:24,108 : worker thread finished; awaiting finish of 0 more threads\n",
      "2021-03-24 10:44:24,116 : EPOCH - 47 : training on 142380 raw words (114333 effective words) took 0.4s, 303170 effective words/s\n",
      "2021-03-24 10:44:24,550 : worker thread finished; awaiting finish of 2 more threads\n",
      "2021-03-24 10:44:24,575 : worker thread finished; awaiting finish of 1 more threads\n",
      "2021-03-24 10:44:24,605 : worker thread finished; awaiting finish of 0 more threads\n",
      "2021-03-24 10:44:24,607 : EPOCH - 48 : training on 142380 raw words (114333 effective words) took 0.5s, 239173 effective words/s\n",
      "2021-03-24 10:44:24,939 : worker thread finished; awaiting finish of 2 more threads\n",
      "2021-03-24 10:44:24,941 : worker thread finished; awaiting finish of 1 more threads\n",
      "2021-03-24 10:44:24,965 : worker thread finished; awaiting finish of 0 more threads\n",
      "2021-03-24 10:44:24,968 : EPOCH - 49 : training on 142380 raw words (114274 effective words) took 0.3s, 332732 effective words/s\n",
      "2021-03-24 10:44:25,305 : worker thread finished; awaiting finish of 2 more threads\n",
      "2021-03-24 10:44:25,318 : worker thread finished; awaiting finish of 1 more threads\n",
      "2021-03-24 10:44:25,327 : worker thread finished; awaiting finish of 0 more threads\n",
      "2021-03-24 10:44:25,330 : EPOCH - 50 : training on 142380 raw words (114386 effective words) took 0.3s, 352363 effective words/s\n",
      "2021-03-24 10:44:25,336 : training on a 7119000 raw words (5714149 effective words) took 17.9s, 319024 effective words/s\n"
     ]
    },
    {
     "data": {
      "text/plain": [
       "(5714149, 7119000)"
      ]
     },
     "execution_count": 11,
     "metadata": {},
     "output_type": "execute_result"
    }
   ],
   "source": [
    "modelo_cbow.train(list_titles_tokens, \n",
    "                  total_examples=modelo_cbow.corpus_count,\n",
    "                  epochs=50)"
   ]
  },
  {
   "cell_type": "code",
   "execution_count": 12,
   "metadata": {},
   "outputs": [
    {
     "name": "stderr",
     "output_type": "stream",
     "text": [
      "2021-03-24 10:44:25,417 : precomputing L2-norms of word weight vectors\n"
     ]
    },
    {
     "data": {
      "text/plain": [
       "[('espirito', 0.8411768674850464),\n",
       " ('antonio', 0.7855128645896912),\n",
       " ('padroeiro', 0.6689670085906982),\n",
       " ('salvador', 0.6618492603302002),\n",
       " ('catequistas', 0.6208908557891846),\n",
       " ('divino', 0.5763355493545532),\n",
       " ('mineiro', 0.5510334968566895),\n",
       " ('medalhao', 0.520987868309021),\n",
       " ('resplendor', 0.5057092905044556),\n",
       " ('religiosa', 0.5013446807861328)]"
      ]
     },
     "execution_count": 12,
     "metadata": {},
     "output_type": "execute_result"
    }
   ],
   "source": [
    "# teste simples do modelo:\n",
    "modelo_cbow.wv.most_similar('santo')"
   ]
  },
  {
   "cell_type": "markdown",
   "metadata": {},
   "source": [
    "### Salva o vetor de palavras para ser utilizado posteriormente"
   ]
  },
  {
   "cell_type": "code",
   "execution_count": 13,
   "metadata": {},
   "outputs": [
    {
     "name": "stderr",
     "output_type": "stream",
     "text": [
      "2021-03-24 10:44:25,668 : storing 6121x300 projection weights into /usr/src/data/modelo_cbow.txt\n"
     ]
    }
   ],
   "source": [
    "modelo_cbow.wv.save_word2vec_format(os.getenv('WORD_EMBEDDINGS_PATH'), binary=False)"
   ]
  },
  {
   "cell_type": "code",
   "execution_count": null,
   "metadata": {},
   "outputs": [],
   "source": []
  }
 ],
 "metadata": {
  "kernelspec": {
   "display_name": "Python 3",
   "language": "python",
   "name": "python3"
  },
  "language_info": {
   "codemirror_mode": {
    "name": "ipython",
    "version": 3
   },
   "file_extension": ".py",
   "mimetype": "text/x-python",
   "name": "python",
   "nbconvert_exporter": "python",
   "pygments_lexer": "ipython3",
   "version": "3.9.2"
  }
 },
 "nbformat": 4,
 "nbformat_minor": 4
}
